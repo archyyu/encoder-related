{
  "nbformat": 4,
  "nbformat_minor": 0,
  "metadata": {
    "colab": {
      "provenance": [],
      "authorship_tag": "ABX9TyO2jWZIyzy4v5comXDt9fC3",
      "include_colab_link": true
    },
    "kernelspec": {
      "name": "python3",
      "display_name": "Python 3"
    },
    "language_info": {
      "name": "python"
    }
  },
  "cells": [
    {
      "cell_type": "markdown",
      "metadata": {
        "id": "view-in-github",
        "colab_type": "text"
      },
      "source": [
        "<a href=\"https://colab.research.google.com/github/archyyu/encoder-related/blob/main/Bidirectional_RNN_Bert.ipynb\" target=\"_parent\"><img src=\"https://colab.research.google.com/assets/colab-badge.svg\" alt=\"Open In Colab\"/></a>"
      ]
    },
    {
      "cell_type": "code",
      "execution_count": 6,
      "metadata": {
        "colab": {
          "base_uri": "https://localhost:8080/"
        },
        "id": "cT98G59-0nJP",
        "outputId": "b6cdcc61-fb5f-47c5-8de5-d4dc262d21db"
      },
      "outputs": [
        {
          "output_type": "execute_result",
          "data": {
            "text/plain": [
              "<torch._C.Generator at 0x7b4e5eb887d0>"
            ]
          },
          "metadata": {},
          "execution_count": 6
        }
      ],
      "source": [
        "import requests\n",
        "import torch\n",
        "import torch.nn as nn\n",
        "import torch.optim as optim\n",
        "import numpy as np\n",
        "import pandas as pd\n",
        "import matplotlib.pyplot as plt # for making figures\n",
        "%matplotlib inline\n",
        "\n",
        "# Set random seed for reproducibility\n",
        "torch.manual_seed(42)"
      ]
    },
    {
      "cell_type": "code",
      "source": [
        "# Hyperparameters\n",
        "hidden_size = 100\n",
        "embedding_dim = 20\n",
        "seq_length = 25\n",
        "learning_rate = 1e-1\n",
        "batch_size = 20\n",
        "deep_num = 3\n",
        "dropout_prob = 0.1"
      ],
      "metadata": {
        "id": "9U3gu6RfzRcp"
      },
      "execution_count": 7,
      "outputs": []
    },
    {
      "cell_type": "code",
      "source": [
        "df = pd.read_csv('https://raw.githubusercontent.com/archyyu/publicResource/main/chat_dataset.csv')\n",
        "\n",
        "\n",
        "pad = '[pad]'\n",
        "mask = '[MASK]'\n",
        "data = []\n",
        "targets = []\n",
        "for index, row in df.iterrows():\n",
        "  data.append(row['message'])\n",
        "  targets.append(row['sentiment'])\n",
        "\n",
        "datalen = []\n",
        "for line in data:\n",
        "  datalen.append(len(line.split(' ')))\n",
        "\n",
        "\n",
        "targetset = sorted(set(targets))\n",
        "sentiment_to_index = {s:i for i, s in enumerate(targetset)}\n",
        "index_to_sentiment = {i:s for i, s in enumerate(targetset)}\n",
        "\n",
        "\n",
        "dataset = sorted(set((' '.join(data)).split(' ')))\n",
        "dataset.append(pad)\n",
        "dataset.append(mask)\n",
        "vocab_size = len(dataset)\n",
        "word_to_index = {w:i for i, w in enumerate(dataset)}\n",
        "index_to_word = {i:w for i, w in enumerate(dataset)}\n",
        "\n",
        "pad_index = word_to_index[pad]\n",
        "\n",
        "n = (int)(len(data) * 0.9)\n",
        "training_data = data[:n]\n",
        "val_data = data[n:]\n",
        "\n",
        "\n",
        "lines = []\n",
        "for item in data:\n",
        "  lines.append(item.split(' '))\n",
        "\n",
        "max_line = max([len(line) for line in lines])\n",
        "\n",
        "for item in lines:\n",
        "  for _ in range(max_line - len(item)):\n",
        "    item.append(pad)\n",
        "\n",
        "X = []\n",
        "for line in lines:\n",
        "  item = [word_to_index[word] for word in line]\n",
        "  X.append(item)\n",
        "\n",
        "Y = []\n",
        "for i in range(len(targets)):\n",
        "  item = sentiment_to_index[targets[i]]\n",
        "  Y.append(item)"
      ],
      "metadata": {
        "id": "M5Gsv0-E6elP"
      },
      "execution_count": 43,
      "outputs": []
    },
    {
      "cell_type": "markdown",
      "source": [
        "![image.png](data:image/png;base64,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)"
      ],
      "metadata": {
        "id": "yPHxFSAs3jbN"
      }
    },
    {
      "cell_type": "code",
      "source": [
        "class SimpleRNN(nn.Module):\n",
        "  def __init__(self, hidden_size):\n",
        "    super(SimpleRNN, self).__init__()\n",
        "    self.i2h = nn.Linear(hidden_size, hidden_size, bias=False)\n",
        "    self.h2h = nn.Linear(hidden_size, hidden_size, bias=False)\n",
        "    self.ob = nn.Parameter(torch.zeros(1, hidden_size))\n",
        "    # self.layer_norm = nn.LayerNorm(hidden_size)\n",
        "\n",
        "  def forward(self, pre_h_list):\n",
        "    h_list = []\n",
        "    for i in range(pre_h_list.size(1)):\n",
        "      if i == 0:\n",
        "        h = torch.tanh(self.i2h(pre_h_list[:, i, :]) + self.ob)\n",
        "      else:\n",
        "        h = torch.tanh(self.i2h(pre_h_list[:, i, :]) + self.h2h(h) + self.ob)\n",
        "      h_list.append(h)\n",
        "\n",
        "    return torch.stack(h_list, dim=1)\n",
        "\n",
        "class DeepRNN(nn.Module):\n",
        "  def __init__(self, vocab_size, embedding_dim, hidden_size, deep_num):\n",
        "    super(DeepRNN, self).__init__()\n",
        "    self.deep_num = deep_num\n",
        "    self.embedding = nn.Embedding(vocab_size, embedding_dim)\n",
        "    self.e2h = nn.Linear(embedding_dim, hidden_size, bias=False)\n",
        "    self.forwardrnn = SimpleRNN(hidden_size)\n",
        "    self.backwardrnn = SimpleRNN(hidden_size)\n",
        "    self.h2o = nn.Linear(hidden_size * 2, vocab_size, bias=False)\n",
        "    self.ob = nn.Parameter(torch.zeros(1, vocab_size))\n",
        "\n",
        "  def forward(self, x):\n",
        "    x = self.embedding(x)\n",
        "    B,T,C = x.shape\n",
        "    h = self.e2h(x)\n",
        "\n",
        "    f_h_list = self.forwardrnn(h)\n",
        "\n",
        "    b_h_list = self.backwardrnn(torch.flip(h, [1]))\n",
        "\n",
        "    y = self.h2o(torch.cat((f_h_list, b_h_list), dim=-1)) + self.ob\n",
        "    return y\n",
        "\n",
        "# Loss function\n",
        "criterion = nn.CrossEntropyLoss()\n",
        "\n",
        "# Model initialization\n",
        "model = DeepRNN(vocab_size, embedding_dim, hidden_size, deep_num)\n",
        "optimizer = optim.Adagrad(model.parameters(), lr=learning_rate)"
      ],
      "metadata": {
        "id": "wEBCtYztzTmq"
      },
      "execution_count": 37,
      "outputs": []
    },
    {
      "cell_type": "code",
      "source": [
        "def get_batch():\n",
        "  inputs = []\n",
        "  targets = []\n",
        "  mask_index_list = []\n",
        "  masks = []\n",
        "  n = torch.randint(len(X) - batch_size, [1]).item()\n",
        "  for i in range(batch_size):\n",
        "    inputs_item = torch.tensor(X[n + i])\n",
        "\n",
        "    mask_index = torch.randint(datalen[n + 1], [1])\n",
        "\n",
        "    targets.append(inputs_item[mask_index])\n",
        "    mask_index_list.append(torch.tensor([i,mask_index]))\n",
        "\n",
        "    inputs_item[mask_index] = word_to_index[mask]\n",
        "\n",
        "    inputs.append(inputs_item)\n",
        "\n",
        "    masks.append(inputs_item != pad_index)\n",
        "\n",
        "  return torch.stack(inputs), torch.stack(targets), torch.stack(mask_index_list), torch.stack(masks).unsqueeze(1)"
      ],
      "metadata": {
        "id": "RZGg5Vct6_8z"
      },
      "execution_count": 11,
      "outputs": []
    },
    {
      "cell_type": "code",
      "source": [
        "n_iters = 10000\n",
        "for i in range(n_iters):\n",
        "  inputs, targets, indices, masks = get_batch()\n",
        "\n",
        "  predicts = model(inputs)\n",
        "\n",
        "  #print(targets.view(-1).shape)\n",
        "  outputs = predicts[indices[:,0],indices[:,1]]\n",
        "  #print(outputs.shape)\n",
        "\n",
        "  optimizer.zero_grad(set_to_none=True)\n",
        "\n",
        "  loss = criterion(outputs, targets.view(-1))\n",
        "\n",
        "  loss.backward()\n",
        "\n",
        "  optimizer.step()\n",
        "\n",
        "  if i%1000 == 0:\n",
        "    print(f'i {i}, loss:{loss.item()}')"
      ],
      "metadata": {
        "colab": {
          "base_uri": "https://localhost:8080/"
        },
        "id": "9u6wfwgA-luf",
        "outputId": "f13a01b0-d01a-4bd4-d659-ab53c09c945f"
      },
      "execution_count": 44,
      "outputs": [
        {
          "output_type": "stream",
          "name": "stdout",
          "text": [
            "i 0, loss:0.9475736618041992\n",
            "i 1000, loss:1.3827742338180542\n",
            "i 2000, loss:0.8159180879592896\n",
            "i 3000, loss:1.9110572338104248\n",
            "i 4000, loss:1.35969877243042\n",
            "i 5000, loss:0.5200411677360535\n",
            "i 6000, loss:0.6221491098403931\n",
            "i 7000, loss:0.8754768371582031\n",
            "i 8000, loss:1.0409244298934937\n",
            "i 9000, loss:0.8141913414001465\n"
          ]
        }
      ]
    },
    {
      "cell_type": "code",
      "source": [
        "n = torch.randint(len(X) - 200,[1]).item()\n",
        "for line in data[-n:-n + 15]:\n",
        "  hgg = [word_to_index[word] for word in line.split(' ')]\n",
        "  linelen = len(hgg)\n",
        "  for i in range(max_line - len(hgg)):\n",
        "    hgg.append(word_to_index[pad])\n",
        "  maskindex = torch.randint(linelen,[1]).item()\n",
        "  hgg[maskindex] = word_to_index['[MASK]']\n",
        "  print(' '.join([index_to_word[item] for item in hgg]))\n",
        "  hgg = torch.tensor(hgg).unsqueeze(0)\n",
        "  mask = (hgg != pad_index)\n",
        "  predict = model(hgg)\n",
        "  values, indexes = torch.topk(predict[0][maskindex],3)\n",
        "  for item in indexes:\n",
        "    print('  ',index_to_word[item.item()])"
      ],
      "metadata": {
        "colab": {
          "base_uri": "https://localhost:8080/"
        },
        "id": "6In7t_gRATih",
        "outputId": "26aef43c-d017-487b-fed2-5f2db728607f"
      },
      "execution_count": 47,
      "outputs": [
        {
          "output_type": "stream",
          "name": "stdout",
          "text": [
            "I need to buy new shoes for work. my old ones are [MASK] out 👞🛍️ [pad] [pad] [pad] [pad] [pad] [pad]\n",
            "   worn\n",
            "   have\n",
            "   happy\n",
            "I just got a $500 ticket for parking in the [MASK] spot 😠🎫 [pad] [pad] [pad] [pad] [pad] [pad] [pad] [pad]\n",
            "   wrong\n",
            "   movie\n",
            "   for\n",
            "My phone bill this month is [MASK] more than usual. I don't know why 📱💸 [pad] [pad] [pad] [pad] [pad] [pad]\n",
            "   $200\n",
            "   slow\n",
            "   tolerable\n",
            "I tried a new restaurant and got food poisoning. [MASK] I'm stuck in bed 😷🤢 [pad] [pad] [pad] [pad] [pad] [pad]\n",
            "   now\n",
            "   [pad]\n",
            "   week\n",
            "I can't believe my rent just went up $300. how am I supposed to [MASK] that? 🏠💰 [pad] [pad] [pad] [pad]\n",
            "   afford\n",
            "   use\n",
            "   them\n",
            "I have to work on Saturday this week and I was planning to [MASK] to a concert 😩🎶 [pad] [pad] [pad]\n",
            "   tackle\n",
            "   be\n",
            "   now\n",
            "[MASK] internet has been down all day and I can't get any work done 🖥️🤬 [pad] [pad] [pad] [pad] [pad] [pad]\n",
            "   The\n",
            "   I'm\n",
            "   I\n",
            "I lost my credit [MASK] and someone just charged $1000 on it 🤦‍♀️💳 [pad] [pad] [pad] [pad] [pad] [pad] [pad] [pad]\n",
            "   card\n",
            "   much\n",
            "   have\n",
            "I missed my flight and had to buy a new ticket for [MASK] 😭🛫 [pad] [pad] [pad] [pad] [pad] [pad] [pad]\n",
            "   $500\n",
            "   on\n",
            "   [pad]\n",
            "I got a bad haircut and now [MASK] have to wear a hat all week 🧢💇‍♀️ [pad] [pad] [pad] [pad] [pad]\n",
            "   I\n",
            "   the\n",
            "   it's\n",
            "I [MASK] a parking ticket while I was at the doctor's office. even though I parked in the designated spot 🚗🎫\n",
            "   got\n",
            "   have\n",
            "   hate\n",
            "I have to [MASK] my vacation plans because I can't get time off work 😞🌴 [pad] [pad] [pad] [pad] [pad] [pad]\n",
            "   cancel\n",
            "   our\n",
            "   clean\n",
            "My computer crashed and I lost [MASK] my important files 😱💻 [pad] [pad] [pad] [pad] [pad] [pad] [pad] [pad] [pad] [pad]\n",
            "   a\n",
            "   all\n",
            "   was\n",
            "I [MASK] into a car accident and my car is totaled 😔🚗 [pad] [pad] [pad] [pad] [pad] [pad] [pad] [pad] [pad]\n",
            "   just\n",
            "   have\n",
            "   don't\n",
            "I have a cold and can't stop coughing. it's [MASK] hard to sleep 😷🤧 [pad] [pad] [pad] [pad] [pad] [pad] [pad]\n",
            "   📚📝\n",
            "   in\n",
            "   I'm\n"
          ]
        }
      ]
    },
    {
      "cell_type": "markdown",
      "source": [
        "this time I use rnn as an encoder to do the BERT job\n",
        "the result is not bad\n",
        "the RNN I use is bidirectional\n",
        "so It could get the leftward and rightward of the mask into account\n",
        "it is not good as attention, but it is not bad"
      ],
      "metadata": {
        "id": "XPstNzr8A-y8"
      }
    }
  ]
}